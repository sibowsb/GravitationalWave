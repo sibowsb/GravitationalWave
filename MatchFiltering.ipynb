{
 "cells": [
  {
   "cell_type": "code",
   "execution_count": null,
   "metadata": {
    "collapsed": true
   },
   "outputs": [],
   "source": [
    "import numpy as np\n",
    "from scipy import interpolate\n",
    "import matplotlib.pyplot as plt\n",
    "import random\n",
    "import h5py\n",
    "import copy\n",
    "import time\n",
    "import os\n",
    "os.environ['CUDA_VISIBLE_DEVICES']='0'\n",
    "import tensorflow as tf"
   ]
  },
  {
   "cell_type": "code",
   "execution_count": null,
   "metadata": {
    "collapsed": true
   },
   "outputs": [],
   "source": [
    "testsig=np.random.rand(2000,4096)\n",
    "testsig1=np.zeros([2000,4096])\n",
    "testsig=np.array(testsig)\n",
    "print(testsig)\n",
    "for i in range(2000):\n",
    "    testsig1[i]=testsig[i][::-1]\n",
    "testsig1=np.float32(testsig1)\n",
    "testsig1=np.transpose(testsig1)\n",
    "print(testsig1)\n",
    "temp=np.random.normal(0,1,4096*128)\n",
    "print(temp)"
   ]
  },
  {
   "cell_type": "code",
   "execution_count": null,
   "metadata": {
    "collapsed": true
   },
   "outputs": [],
   "source": [
    "start1=time.time()\n",
    "sess=tf.Session()\n",
    "w=tf.constant(testsig1)\n",
    "w=tf.reshape(w,[4096,1,1,2000])\n",
    "X=tf.placeholder(tf.float32)\n",
    "XX=tf.reshape(X,[1,4096*128,1,1])\n",
    "conv=tf.squeeze(tf.nn.conv2d(XX,w,strides=[1,1,1,1],padding='VALID'))\n",
    "conv1=sess.run(conv,feed_dict={X:temp})\n",
    "end1=time.time()\n",
    "time1=end1-start1\n",
    "print('time: '+str(time1))\n",
    "conv1=np.transpose(conv1)\n",
    "print(conv1.shape)\n",
    "print(conv1)"
   ]
  },
  {
   "cell_type": "code",
   "execution_count": null,
   "metadata": {
    "collapsed": true
   },
   "outputs": [],
   "source": [
    "conv2=np.zeros([2000,520193])\n",
    "start2=time.time()\n",
    "for i in range(2000):\n",
    "    conv2[i]=np.convolve(temp,testsig[i],'VALID')\n",
    "end2=time.time()\n",
    "time2=end2-start2\n",
    "print('time: '+str(time2))\n",
    "print(conv2.shape)\n",
    "print(conv2)"
   ]
  },
  {
   "cell_type": "code",
   "execution_count": null,
   "metadata": {
    "collapsed": true
   },
   "outputs": [],
   "source": [
    "print(time2/time1)"
   ]
  }
 ],
 "metadata": {
  "kernelspec": {
   "display_name": "Python 2",
   "language": "python",
   "name": "python2"
  },
  "language_info": {
   "codemirror_mode": {
    "name": "ipython",
    "version": 2
   },
   "file_extension": ".py",
   "mimetype": "text/x-python",
   "name": "python",
   "nbconvert_exporter": "python",
   "pygments_lexer": "ipython2",
   "version": "2.7.13"
  }
 },
 "nbformat": 4,
 "nbformat_minor": 2
}
